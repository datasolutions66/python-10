{
  "cells": [
    {
      "cell_type": "markdown",
      "metadata": {
        "id": "B7uzWWECFRjb"
      },
      "source": [
        "#Summary:-\n",
        "##Control Flow Statement\n",
        "##if elif else\n",
        "##Nested if-else\n",
        "##Single Line if-else\n",
        "##Loops\n",
        "(While Loop, While else, for Loop)\n",
        "##Print Pattern\n",
        "##Break\n",
        "##Continue\n",
        "##Pass\n"
      ]
    },
    {
      "cell_type": "markdown",
      "metadata": {
        "id": "b9tcZny7FYSq"
      },
      "source": [
        "##if elif else"
      ]
    },
    {
      "cell_type": "code",
      "execution_count": null,
      "metadata": {
        "colab": {
          "base_uri": "https://localhost:8080/"
        },
        "id": "UtcHU4xqFLle",
        "outputId": "024e3f21-51f7-4b56-f3c9-edc147f07c90"
      },
      "outputs": [
        {
          "name": "stdout",
          "output_type": "stream",
          "text": [
            "Cart Total is: 1290\n",
            "Pay amount: 902.9999999999999\n"
          ]
        }
      ],
      "source": [
        "total_amount = 90 + 100 + 100 + 1000\n",
        "print(f\"Cart Total is: {total_amount}\")\n",
        "if total_amount > 999:\n",
        "  price_after_discount = total_amount * 0.7\n",
        "  print(f\"Pay amount: {price_after_discount}\")\n",
        "elif total_amount <= 999 and total_amount > 499:\n",
        "  price_after_discount = total_amount * 0.8\n",
        "  print(f\"Pay amount: {price_after_discount}\")\n",
        "else:\n",
        "  print(f\"Pay amount: {total_amount}\")"
      ]
    },
    {
      "cell_type": "markdown",
      "metadata": {
        "id": "ErCaufpqRXjy"
      },
      "source": [
        "###Nested if-else:- if-else under another if-else"
      ]
    },
    {
      "cell_type": "code",
      "execution_count": null,
      "metadata": {
        "colab": {
          "background_save": true,
          "base_uri": "https://localhost:8080/"
        },
        "id": "nip3RDk5Jycj",
        "outputId": "3b217fe1-b51d-466a-d772-12cc470e1183"
      },
      "outputs": [
        {
          "name": "stdout",
          "output_type": "stream",
          "text": [
            "It's a Positive Number\n"
          ]
        }
      ],
      "source": [
        "val = float(input(\"Enter your Number:\"))\n",
        "if val >= 0:\n",
        "  if val == 0:\n",
        "    print(\"It's Zero\")\n",
        "  else:\n",
        "    print(\"It's a Positive Number\")\n",
        "else:\n",
        "  print(\"It's a Negative Number\")\n"
      ]
    },
    {
      "cell_type": "markdown",
      "metadata": {
        "id": "JRpGuq_lTBx6"
      },
      "source": [
        "###Single Line if-else:-"
      ]
    },
    {
      "cell_type": "code",
      "execution_count": null,
      "metadata": {
        "colab": {
          "background_save": true,
          "base_uri": "https://localhost:8080/"
        },
        "id": "C8uKYAGySaAr",
        "outputId": "d7dde815-7197-4de9-e087-93a06be4171c"
      },
      "outputs": [
        {
          "name": "stdout",
          "output_type": "stream",
          "text": [
            "NO\n"
          ]
        }
      ],
      "source": [
        "val = float(input(\"Enter your Number:\"))\n",
        "if val > 99: print(\"YES\")\n",
        "else: print(\"NO\")"
      ]
    },
    {
      "cell_type": "code",
      "execution_count": null,
      "metadata": {
        "colab": {
          "base_uri": "https://localhost:8080/"
        },
        "id": "Ty8ZuftSTakR",
        "outputId": "f11f0f43-9b4b-453c-963e-0b68abed2e04"
      },
      "outputs": [
        {
          "name": "stdout",
          "output_type": "stream",
          "text": [
            "Enter your Number:66\n",
            "NO\n"
          ]
        }
      ],
      "source": [
        "#It's a Recommended approach. Because, it's more Readable\n",
        "val = float(input(\"Enter your Number:\"))\n",
        "if val > 99: \n",
        "  print(\"YES\")\n",
        "else: \n",
        "  print(\"NO\")"
      ]
    },
    {
      "cell_type": "markdown",
      "metadata": {
        "id": "K6e0m6nlUc1C"
      },
      "source": [
        "###Loops:-"
      ]
    },
    {
      "cell_type": "markdown",
      "metadata": {
        "id": "4NRAgRH2W0jS"
      },
      "source": [
        "###While Loop:-\n",
        "###While condition is True, it will continue to print. When condition is False, it will be out of the Loop."
      ]
    },
    {
      "cell_type": "code",
      "execution_count": null,
      "metadata": {
        "colab": {
          "base_uri": "https://localhost:8080/"
        },
        "id": "uqdYCsDAUAMp",
        "outputId": "25255048-bcb3-47f1-d768-5cae45af830f"
      },
      "outputs": [
        {
          "name": "stdout",
          "output_type": "stream",
          "text": [
            "Your Score is: 100\n",
            "I will attempt next year\n",
            "Your Score is: 200\n",
            "I will attempt next year\n",
            "Your Score is: 300\n",
            "I will attempt next year\n",
            "Your Score is: 399\n",
            "I will attempt next year\n"
          ]
        }
      ],
      "source": [
        "total_marks = 1000\n",
        "cutoff = 400\n",
        "scores = [100, 200, 300, 399, 500]\n",
        "year = 0\n",
        "while scores[year] < cutoff:\n",
        "  print(f\"Your Score is: {scores[year]}\")\n",
        "  print(\"I will attempt next year\")\n",
        "  year = year + 1  #I am adding 1 to the Current year"
      ]
    },
    {
      "cell_type": "code",
      "execution_count": null,
      "metadata": {
        "colab": {
          "base_uri": "https://localhost:8080/"
        },
        "id": "Tf9xyIENWtGT",
        "outputId": "b504f9f8-5907-40e9-f846-e51bf9df5b45"
      },
      "outputs": [
        {
          "name": "stdout",
          "output_type": "stream",
          "text": [
            "Current sum: 10\n",
            "Current sum: 20\n",
            "Current sum: 30\n",
            "Current sum: 40\n",
            "Current sum: 50\n"
          ]
        }
      ],
      "source": [
        "notes = 5\n",
        "i = 1  #first Note\n",
        "while i <= notes:\n",
        "  print(f\"Current sum: {i*10}\")\n",
        "  i = i+1\n"
      ]
    },
    {
      "cell_type": "code",
      "execution_count": null,
      "metadata": {
        "colab": {
          "base_uri": "https://localhost:8080/"
        },
        "id": "59LgcDGxaZz6",
        "outputId": "cf6a989d-2c95-4426-a055-24c5498569c9"
      },
      "outputs": [
        {
          "name": "stdout",
          "output_type": "stream",
          "text": [
            "Current sum: 1\n",
            "Current sum: 2\n",
            "Current sum: 3\n",
            "Current sum: 4\n",
            "Current sum: 5\n"
          ]
        }
      ],
      "source": [
        "notes = 5\n",
        "i = 1  #first Note\n",
        "while i <= notes:\n",
        "  print(f\"Current sum: {i}\")\n",
        "  i = i+1\n"
      ]
    },
    {
      "cell_type": "code",
      "execution_count": null,
      "metadata": {
        "colab": {
          "base_uri": "https://localhost:8080/"
        },
        "id": "9htfGP21afKp",
        "outputId": "ddbbbebe-2490-4c28-b2f0-12700597d797"
      },
      "outputs": [
        {
          "name": "stdout",
          "output_type": "stream",
          "text": [
            "Current sum: 10\n",
            "Current sum: 20\n",
            "Current sum: 30\n",
            "Current sum: 40\n",
            "Current sum: 50\n",
            "Current sum: 60\n",
            "Current sum: 70\n",
            "Current sum: 80\n",
            "Current sum: 90\n",
            "Current sum: 100\n"
          ]
        }
      ],
      "source": [
        "notes = 10\n",
        "i = 1  #first Note\n",
        "while i <= notes:\n",
        "  print(f\"Current sum: {i*10}\")\n",
        "  i = i+1"
      ]
    },
    {
      "cell_type": "markdown",
      "metadata": {
        "id": "HD1joSAtcOlp"
      },
      "source": [
        "###While else"
      ]
    },
    {
      "cell_type": "code",
      "execution_count": null,
      "metadata": {
        "colab": {
          "base_uri": "https://localhost:8080/"
        },
        "id": "7MVkvzrtatup",
        "outputId": "d16163f0-0727-46e3-d7cc-01b2489a1d54"
      },
      "outputs": [
        {
          "name": "stdout",
          "output_type": "stream",
          "text": [
            "Current sum: 10\n",
            "Current sum: 20\n",
            "Current sum: 30\n",
            "Current sum: 40\n",
            "Current sum: 50\n",
            "No more 10 Rupees Note Left\n"
          ]
        }
      ],
      "source": [
        "notes = 5\n",
        "i = 1  #first Note\n",
        "while i <= notes:\n",
        "  print(f\"Current sum: {i*10}\")\n",
        "  i = i+1\n",
        "else:\n",
        "  print(\"No more 10 Rupees Note Left\")"
      ]
    },
    {
      "cell_type": "markdown",
      "metadata": {
        "id": "U10q23oCdaxB"
      },
      "source": [
        "###for Loop:-"
      ]
    },
    {
      "cell_type": "code",
      "execution_count": null,
      "metadata": {
        "colab": {
          "base_uri": "https://localhost:8080/"
        },
        "id": "BWhTU7qydACa",
        "outputId": "77244e4d-0e0c-4207-9170-0416de6f0b1b"
      },
      "outputs": [
        {
          "name": "stdout",
          "output_type": "stream",
          "text": [
            "0\n",
            "1\n",
            "2\n",
            "3\n",
            "4\n",
            "5\n",
            "6\n",
            "7\n",
            "8\n",
            "9\n"
          ]
        }
      ],
      "source": [
        "for i in range(0, 10):\n",
        "  print(i)"
      ]
    },
    {
      "cell_type": "code",
      "execution_count": null,
      "metadata": {
        "colab": {
          "base_uri": "https://localhost:8080/"
        },
        "id": "RlVuBNrYd4qZ",
        "outputId": "846fece2-cae8-4704-ac41-e8321e55298f"
      },
      "outputs": [
        {
          "name": "stdout",
          "output_type": "stream",
          "text": [
            "10 * 0 = 0\n",
            "10 * 1 = 10\n",
            "10 * 2 = 20\n",
            "10 * 3 = 30\n",
            "10 * 4 = 40\n",
            "10 * 5 = 50\n",
            "10 * 6 = 60\n",
            "10 * 7 = 70\n",
            "10 * 8 = 80\n",
            "10 * 9 = 90\n"
          ]
        }
      ],
      "source": [
        "for i in range(0, 10):   #Table of 10  (Last Number 10 is out of Bound)\n",
        "  print(f\"10 * {i} = {10*i}\")"
      ]
    },
    {
      "cell_type": "code",
      "execution_count": null,
      "metadata": {
        "colab": {
          "base_uri": "https://localhost:8080/"
        },
        "id": "abRsPnYReapY",
        "outputId": "6398c696-c4b1-4a76-ad71-817a6d8e660e"
      },
      "outputs": [
        {
          "name": "stdout",
          "output_type": "stream",
          "text": [
            "10 * 1 = 10\n",
            "10 * 2 = 20\n",
            "10 * 3 = 30\n",
            "10 * 4 = 40\n",
            "10 * 5 = 50\n",
            "10 * 6 = 60\n",
            "10 * 7 = 70\n",
            "10 * 8 = 80\n",
            "10 * 9 = 90\n",
            "10 * 10 = 100\n"
          ]
        }
      ],
      "source": [
        "for i in range(0, 10):   \n",
        "  print(f\"10 * {i+1} = {10*(i+1)}\")"
      ]
    },
    {
      "cell_type": "code",
      "execution_count": null,
      "metadata": {
        "colab": {
          "base_uri": "https://localhost:8080/"
        },
        "id": "-YjORZQ8e98h",
        "outputId": "4f47e119-8a11-47ba-d1c3-ce42f2b692cd"
      },
      "outputs": [
        {
          "name": "stdout",
          "output_type": "stream",
          "text": [
            "10 * 1 = 10\n",
            "10 * 2 = 20\n",
            "10 * 3 = 30\n",
            "10 * 4 = 40\n",
            "10 * 5 = 50\n",
            "10 * 6 = 60\n",
            "10 * 7 = 70\n",
            "10 * 8 = 80\n",
            "10 * 9 = 90\n",
            "10 * 10 = 100\n"
          ]
        }
      ],
      "source": [
        "for i in range(1, 11):   \n",
        "  print(f\"10 * {i} = {10*i}\")"
      ]
    },
    {
      "cell_type": "markdown",
      "metadata": {
        "id": "Y47dw_BMfccJ"
      },
      "source": [
        "###Print Pattern:-"
      ]
    },
    {
      "cell_type": "code",
      "execution_count": null,
      "metadata": {
        "colab": {
          "base_uri": "https://localhost:8080/"
        },
        "id": "K5mCxGPkfTQg",
        "outputId": "2cbaca3c-070c-4639-bd89-5a185f3ef5d1"
      },
      "outputs": [
        {
          "name": "stdout",
          "output_type": "stream",
          "text": [
            "*\n",
            "**\n",
            "***\n",
            "****\n",
            "*****\n",
            "******\n",
            "*******\n",
            "********\n",
            "*********\n",
            "**********\n"
          ]
        }
      ],
      "source": [
        "for i in range(1, 11):   \n",
        "  print(\"*\"*i)"
      ]
    },
    {
      "cell_type": "code",
      "execution_count": null,
      "metadata": {
        "colab": {
          "base_uri": "https://localhost:8080/",
          "height": 35
        },
        "id": "8CzDs1lnfxnQ",
        "outputId": "02cd3147-52f7-440d-9cd3-4f88e9ef9265"
      },
      "outputs": [
        {
          "data": {
            "application/vnd.google.colaboratory.intrinsic+json": {
              "type": "string"
            },
            "text/plain": [
              "'**********'"
            ]
          },
          "execution_count": 18,
          "metadata": {},
          "output_type": "execute_result"
        }
      ],
      "source": [
        "\"*\"*10"
      ]
    },
    {
      "cell_type": "code",
      "execution_count": null,
      "metadata": {
        "colab": {
          "base_uri": "https://localhost:8080/"
        },
        "id": "PucBFhxbgKxo",
        "outputId": "50247155-a2cc-431f-a5ba-a481e6b84541"
      },
      "outputs": [
        {
          "name": "stdout",
          "output_type": "stream",
          "text": [
            "*\n",
            "**\n",
            "***\n",
            "****\n",
            "*****\n",
            "******\n",
            "*******\n",
            "********\n",
            "*********\n",
            "**********\n"
          ]
        }
      ],
      "source": [
        "#i is not necessary to use\n",
        "for Dipanjan in range(1, 11):     #Here Dipanjan is a variable\n",
        "  print(\"*\"*Dipanjan)"
      ]
    },
    {
      "cell_type": "code",
      "execution_count": null,
      "metadata": {
        "colab": {
          "base_uri": "https://localhost:8080/"
        },
        "id": "3XslkJP3gfbw",
        "outputId": "712fc3ca-867e-414d-e95c-99ea561e5ec9"
      },
      "outputs": [
        {
          "name": "stdout",
          "output_type": "stream",
          "text": [
            "100\n",
            "200\n",
            "129\n",
            "456\n",
            "1000\n"
          ]
        }
      ],
      "source": [
        "cost_of_items = [100, 200, 129, 456, 1000]\n",
        "total_sum = 0\n",
        "\n",
        "for cost in cost_of_items:   #you don't have to use \"range\" keywords.\n",
        "  print(cost)"
      ]
    },
    {
      "cell_type": "markdown",
      "source": [
        "###break - means Out of the Loop. Stop the Loop\n"
      ],
      "metadata": {
        "id": "nv2OkCtPOrnz"
      }
    },
    {
      "cell_type": "code",
      "execution_count": 2,
      "metadata": {
        "id": "TDSRjpGchqk6",
        "colab": {
          "base_uri": "https://localhost:8080/"
        },
        "outputId": "71b916a3-f480-4304-f63e-349a3f5b6a3f"
      },
      "outputs": [
        {
          "output_type": "stream",
          "name": "stdout",
          "text": [
            "1\n",
            "2\n",
            "3\n",
            "4\n",
            "5\n",
            "6\n",
            "7\n",
            "8\n",
            "9\n",
            "10\n",
            "11\n",
            "12\n",
            "13\n",
            "14\n",
            "15\n",
            "16\n",
            "17\n",
            "18\n",
            "19\n",
            "20\n",
            "21\n",
            "22\n",
            "23\n",
            "24\n",
            "25\n",
            "26\n",
            "27\n",
            "28\n",
            "29\n",
            "30\n",
            "31\n",
            "32\n",
            "33\n",
            "34\n",
            "35\n",
            "36\n",
            "37\n",
            "38\n",
            "39\n",
            "40\n",
            "41\n",
            "42\n",
            "43\n",
            "44\n",
            "45\n",
            "46\n",
            "47\n",
            "48\n",
            "49\n",
            "50\n",
            "51\n"
          ]
        }
      ],
      "source": [
        "for i in range(1, 100):\n",
        "  print(i)\n",
        "  if i > 50:\n",
        "    break"
      ]
    },
    {
      "cell_type": "code",
      "source": [
        "for i in range(1, 100):\n",
        "  if i > 50:\n",
        "    break\n",
        "  print(i)"
      ],
      "metadata": {
        "colab": {
          "base_uri": "https://localhost:8080/"
        },
        "id": "D-0nO4WcO4AX",
        "outputId": "8957a4df-c924-4f4c-d1c9-7b21eddd8e73"
      },
      "execution_count": 3,
      "outputs": [
        {
          "output_type": "stream",
          "name": "stdout",
          "text": [
            "1\n",
            "2\n",
            "3\n",
            "4\n",
            "5\n",
            "6\n",
            "7\n",
            "8\n",
            "9\n",
            "10\n",
            "11\n",
            "12\n",
            "13\n",
            "14\n",
            "15\n",
            "16\n",
            "17\n",
            "18\n",
            "19\n",
            "20\n",
            "21\n",
            "22\n",
            "23\n",
            "24\n",
            "25\n",
            "26\n",
            "27\n",
            "28\n",
            "29\n",
            "30\n",
            "31\n",
            "32\n",
            "33\n",
            "34\n",
            "35\n",
            "36\n",
            "37\n",
            "38\n",
            "39\n",
            "40\n",
            "41\n",
            "42\n",
            "43\n",
            "44\n",
            "45\n",
            "46\n",
            "47\n",
            "48\n",
            "49\n",
            "50\n"
          ]
        }
      ]
    },
    {
      "cell_type": "code",
      "source": [
        "for i in range(1, 100):\n",
        "  print(i)\n",
        "  if i >= 50:\n",
        "    break"
      ],
      "metadata": {
        "colab": {
          "base_uri": "https://localhost:8080/"
        },
        "id": "pRRjhJLEPt8j",
        "outputId": "410557db-68d9-4e2a-d644-46f887c55675"
      },
      "execution_count": 4,
      "outputs": [
        {
          "output_type": "stream",
          "name": "stdout",
          "text": [
            "1\n",
            "2\n",
            "3\n",
            "4\n",
            "5\n",
            "6\n",
            "7\n",
            "8\n",
            "9\n",
            "10\n",
            "11\n",
            "12\n",
            "13\n",
            "14\n",
            "15\n",
            "16\n",
            "17\n",
            "18\n",
            "19\n",
            "20\n",
            "21\n",
            "22\n",
            "23\n",
            "24\n",
            "25\n",
            "26\n",
            "27\n",
            "28\n",
            "29\n",
            "30\n",
            "31\n",
            "32\n",
            "33\n",
            "34\n",
            "35\n",
            "36\n",
            "37\n",
            "38\n",
            "39\n",
            "40\n",
            "41\n",
            "42\n",
            "43\n",
            "44\n",
            "45\n",
            "46\n",
            "47\n",
            "48\n",
            "49\n",
            "50\n"
          ]
        }
      ]
    },
    {
      "cell_type": "markdown",
      "source": [
        "###continue - means go to next action. Start Loop again"
      ],
      "metadata": {
        "id": "Pt8-rqUqQUVE"
      }
    },
    {
      "cell_type": "code",
      "source": [
        "for i in range(1, 20):\n",
        "  if i%2 == 0:  #If Number is even, Start the Loop again.\n",
        "    continue\n",
        "  print(i)"
      ],
      "metadata": {
        "colab": {
          "base_uri": "https://localhost:8080/"
        },
        "id": "UQJ96j2mQDeb",
        "outputId": "c21df6e3-fc60-4296-c533-69aaa32419fe"
      },
      "execution_count": 6,
      "outputs": [
        {
          "output_type": "stream",
          "name": "stdout",
          "text": [
            "1\n",
            "3\n",
            "5\n",
            "7\n",
            "9\n",
            "11\n",
            "13\n",
            "15\n",
            "17\n",
            "19\n"
          ]
        }
      ]
    },
    {
      "cell_type": "code",
      "source": [
        "for i in range(1, 20):\n",
        "  if i%2 != 0:  #If Number is odd, Start the Loop again.\n",
        "    continue\n",
        "  print(i)"
      ],
      "metadata": {
        "colab": {
          "base_uri": "https://localhost:8080/"
        },
        "id": "cdlj9EDaQjZ0",
        "outputId": "1c77dfa4-af43-4f26-b459-ce85517f4adb"
      },
      "execution_count": 7,
      "outputs": [
        {
          "output_type": "stream",
          "name": "stdout",
          "text": [
            "2\n",
            "4\n",
            "6\n",
            "8\n",
            "10\n",
            "12\n",
            "14\n",
            "16\n",
            "18\n"
          ]
        }
      ]
    },
    {
      "cell_type": "markdown",
      "source": [
        "###Pass"
      ],
      "metadata": {
        "id": "1gEJiaw0SZtj"
      }
    },
    {
      "cell_type": "code",
      "source": [
        "for i in range(1, 20):\n",
        "  pass  #I want to write code Later\n"
      ],
      "metadata": {
        "id": "ubicjNVQRDyT"
      },
      "execution_count": 8,
      "outputs": []
    },
    {
      "cell_type": "code",
      "source": [],
      "metadata": {
        "id": "EdcfhDb0SmJy"
      },
      "execution_count": null,
      "outputs": []
    }
  ],
  "metadata": {
    "colab": {
      "provenance": []
    },
    "kernelspec": {
      "display_name": "Python 3",
      "name": "python3"
    },
    "language_info": {
      "name": "python"
    }
  },
  "nbformat": 4,
  "nbformat_minor": 0
}